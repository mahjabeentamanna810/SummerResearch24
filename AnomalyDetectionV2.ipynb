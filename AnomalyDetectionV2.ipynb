{
 "cells": [
  {
   "cell_type": "code",
   "execution_count": 1,
   "metadata": {},
   "outputs": [],
   "source": [
    "import os\n",
    "import wfdb\n",
    "import numpy as np\n",
    "\n",
    "def load_mitbih_dataset(path):\n",
    "    # Define annotation list\n",
    "    annots_list = ['N', 'L', 'R', 'e', 'j', 'S', 'A', 'a', 'J', 'V', 'E', 'F', '/', 'f', 'Q']\n",
    "\n",
    "    # This will hold the signal segments corresponding to beats\n",
    "    X = []\n",
    "    # This will hold the binary labels corresponding to each beat\n",
    "    y = []\n",
    "\n",
    "    # Get the list of record names from the 'RECORDS' file\n",
    "    record_list = []\n",
    "    with open(os.path.join(path, 'RECORDS'), 'r') as file:\n",
    "        record_list = [line.strip() for line in file]\n",
    "\n",
    "    # Process each record\n",
    "    for record_name in record_list:\n",
    "        # Load the record and its annotation\n",
    "        record = wfdb.rdrecord(os.path.join(path, record_name))\n",
    "        annotation = wfdb.rdann(os.path.join(path, record_name), 'atr')\n",
    "\n",
    "        # Get the signal and annotation values\n",
    "        signal = record.p_signal[:, 0]  # assuming you only want the first signal\n",
    "        beat_annotations = annotation.symbol\n",
    "        beat_locations = annotation.sample\n",
    "\n",
    "        # Iterate over each beat annotation\n",
    "        for sym, loc in zip(beat_annotations, beat_locations):\n",
    "            # Check if the annotation symbol is in the classes of interest\n",
    "            if sym in annots_list:\n",
    "                # Binary classification: normal (0) vs abnormal (1)\n",
    "                label = 0 if sym == 'N' else 1\n",
    "                \n",
    "                # Define a window size around each beat\n",
    "                win_size = 625  # This gives a window of 1250 samples around the beat\n",
    "                # Avoid going out of bounds\n",
    "                if loc - win_size >= 0 and loc + win_size <= len(signal):\n",
    "                    # Extract the segment and append to the list\n",
    "                    segment = signal[loc - win_size: loc + win_size]\n",
    "                    X.append(segment)\n",
    "                    y.append(label)\n",
    "\n",
    "    # Convert lists to numpy arrays for ML processing\n",
    "    X = np.array(X)\n",
    "    y = np.array(y)\n",
    "\n",
    "    return X, y\n"
   ]
  },
  {
   "cell_type": "code",
   "execution_count": 3,
   "metadata": {},
   "outputs": [],
   "source": [
    "#run this step just onceeeeeeeeee, next time just load from the saved train test\n",
    "# import numpy as np\n",
    "# from sklearn.model_selection import train_test_split\n",
    "\n",
    "# # Load your dataset\n",
    "# X, y = load_mitbih_dataset(\"/home/researchgroup/mahjabeen_workspace/research/CLINet-ECG-Classification-2024/data/mit-bih/mitbih_database/\")\n",
    "\n",
    "# # Step 1: Perform the split once\n",
    "# X_train, X_test, y_train, y_test = train_test_split(X, y, test_size=0.20, random_state=42)\n",
    "\n",
    "# # Step 2: Save the split data to disk\n",
    "# np.save('./X_train.npy', X_train)\n",
    "# np.save('./X_test.npy', X_test)\n",
    "# np.save('./y_train.npy', y_train)\n",
    "# np.save('./y_test.npy', y_test)\n",
    "\n",
    "# # In future sessions, you can load the datasets directly from the saved files:\n",
    "# X_train = np.load('./X_train.npy')\n",
    "# X_test = np.load('./X_test.npy')\n",
    "# y_train = np.load('./y_train.npy')\n",
    "# y_test = np.load('./y_test.npy')\n",
    "\n",
    "# # Use X_train, X_test, y_train, y_test for model training and evaluations\n"
   ]
  },
  {
   "cell_type": "code",
   "execution_count": 4,
   "metadata": {},
   "outputs": [
    {
     "name": "stdout",
     "output_type": "stream",
     "text": [
      "-rw-rw-r-- 1 researchgroup researchgroup 218580128 Apr  4 13:16 X_test.npy\n",
      "-rw-rw-r-- 1 researchgroup researchgroup 874290128 Apr  4 13:16 X_train.npy\n",
      "-rw-rw-r-- 1 researchgroup researchgroup    174992 Apr  4 13:16 y_test.npy\n",
      "-rw-rw-r-- 1 researchgroup researchgroup    699560 Apr  4 13:16 y_train.npy\n"
     ]
    }
   ],
   "source": [
    "!ls -l *.npy\n"
   ]
  },
  {
   "cell_type": "code",
   "execution_count": 2,
   "metadata": {},
   "outputs": [
    {
     "name": "stderr",
     "output_type": "stream",
     "text": [
      "2024-04-07 16:05:04.541467: I tensorflow/core/util/port.cc:113] oneDNN custom operations are on. You may see slightly different numerical results due to floating-point round-off errors from different computation orders. To turn them off, set the environment variable `TF_ENABLE_ONEDNN_OPTS=0`.\n",
      "2024-04-07 16:05:04.579243: I tensorflow/core/platform/cpu_feature_guard.cc:210] This TensorFlow binary is optimized to use available CPU instructions in performance-critical operations.\n",
      "To enable the following instructions: AVX2 AVX512F AVX512_VNNI FMA, in other operations, rebuild TensorFlow with the appropriate compiler flags.\n",
      "2024-04-07 16:05:05.254641: W tensorflow/compiler/tf2tensorrt/utils/py_utils.cc:38] TF-TRT Warning: Could not find TensorRT\n"
     ]
    }
   ],
   "source": [
    "# Loading the Saved Train-Test Split\n",
    "import numpy as np\n",
    "import os\n",
    "from tensorflow import keras\n",
    "from tensorflow.keras.layers import Input, Conv1D, BatchNormalization, ReLU, TimeDistributed, Flatten, LSTM, Dense, Dropout\n",
    "from tensorflow.keras.optimizers import Adam\n",
    "import matplotlib.pyplot as plt\n",
    "from sklearn.metrics import classification_report, confusion_matrix\n",
    "import seaborn as sns\n",
    "from sklearn.utils.class_weight import compute_class_weight\n",
    "from sklearn.metrics import roc_curve, auc\n",
    "\n",
    "# Load the saved datasets\n",
    "X_train = np.load('./X_train.npy')\n",
    "X_test = np.load('./X_test.npy')\n",
    "y_train = np.load('./y_train.npy')\n",
    "y_test = np.load('./y_test.npy')\n"
   ]
  },
  {
   "cell_type": "code",
   "execution_count": 3,
   "metadata": {},
   "outputs": [],
   "source": [
    "#Defining my Model\n",
    "#network.py\n",
    "from tensorflow import keras\n",
    "from tensorflow.keras.layers import Input, Conv1D, BatchNormalization, ReLU, TimeDistributed, Flatten, LSTM, Dense, Dropout\n",
    "from tensorflow.keras.optimizers import Adam\n",
    "\n",
    "def create_lstm_model(input_shape=(1250, 1)):\n",
    "    # No need to pass num_classes for binary classification\n",
    "    inputs = keras.layers.Input(shape=input_shape)\n",
    "\n",
    "    # Convolutional layers\n",
    "    x11 = Conv1D(filters=3, kernel_size=31, strides=5, padding='same', activation=None, use_bias=True)(inputs)\n",
    "    x12 = Conv1D(filters=3, kernel_size=36, strides=5, padding='same', activation=None, use_bias=True)(inputs)\n",
    "    x13 = Conv1D(filters=3, kernel_size=41, strides=5, padding='same', activation=None, use_bias=True)(inputs)\n",
    "    conv = keras.layers.concatenate([x11, x12, x13], axis=-1)\n",
    "\n",
    "    # Batch normalization and ReLU activation\n",
    "    x = BatchNormalization()(conv)\n",
    "    x = ReLU()(x)\n",
    "\n",
    "    # LSTM layer\n",
    "    x = TimeDistributed(Flatten())(x)\n",
    "    x = LSTM(200, return_sequences=False)(x)  # Adjust return_sequences based on whether you're adding more LSTM layers or not\n",
    "\n",
    "    # Dense layers for classification\n",
    "    x = Dropout(0.3)(x)\n",
    "    x = Dense(20, activation='relu')(x)\n",
    "    x = Dropout(0.1)(x)\n",
    "    x = Dense(10, activation='relu')(x)\n",
    "    \n",
    "    # Adjusted for binary classification: single output neuron, sigmoid activation\n",
    "    outputs = Dense(1, activation='sigmoid')(x)\n",
    "\n",
    "    model = keras.Model(inputs=[inputs], outputs=[outputs], name=\"lstm_model\")\n",
    "    \n",
    "    # Compile the model with binary crossentropy loss and include 'Precision' and 'Recall' in metrics\n",
    "    model.compile(optimizer=Adam(learning_rate=0.001),\n",
    "                  loss='binary_crossentropy',\n",
    "                  metrics=['accuracy', 'Precision', 'Recall'])\n",
    "\n",
    "    return model\n"
   ]
  },
  {
   "cell_type": "code",
   "execution_count": 7,
   "metadata": {},
   "outputs": [
    {
     "ename": "NotADirectoryError",
     "evalue": "[Errno 20] Not a directory: './model_checkpoint.keras'",
     "output_type": "error",
     "traceback": [
      "\u001b[0;31m---------------------------------------------------------------------------\u001b[0m",
      "\u001b[0;31mNotADirectoryError\u001b[0m                        Traceback (most recent call last)",
      "Cell \u001b[0;32mIn[7], line 8\u001b[0m\n\u001b[1;32m      5\u001b[0m checkpoint_dir \u001b[38;5;241m=\u001b[39m \u001b[38;5;124m'\u001b[39m\u001b[38;5;124m./model_checkpoint.keras\u001b[39m\u001b[38;5;124m'\u001b[39m\n\u001b[1;32m      7\u001b[0m \u001b[38;5;66;03m# List all files in the checkpoint directory\u001b[39;00m\n\u001b[0;32m----> 8\u001b[0m checkpoint_files \u001b[38;5;241m=\u001b[39m \u001b[43mos\u001b[49m\u001b[38;5;241;43m.\u001b[39;49m\u001b[43mlistdir\u001b[49m\u001b[43m(\u001b[49m\u001b[43mcheckpoint_dir\u001b[49m\u001b[43m)\u001b[49m\n\u001b[1;32m     10\u001b[0m \u001b[38;5;66;03m# Regular expression to extract the epoch number from the filename\u001b[39;00m\n\u001b[1;32m     11\u001b[0m epoch_regex \u001b[38;5;241m=\u001b[39m \u001b[38;5;124mr\u001b[39m\u001b[38;5;124m\"\u001b[39m\u001b[38;5;124m_epoch_(\u001b[39m\u001b[38;5;124m\\\u001b[39m\u001b[38;5;124md+)_\u001b[39m\u001b[38;5;124m\"\u001b[39m\n",
      "\u001b[0;31mNotADirectoryError\u001b[0m: [Errno 20] Not a directory: './model_checkpoint.keras'"
     ]
    }
   ],
   "source": [
    "import os\n",
    "import re\n",
    "\n",
    "# Path to the directory where checkpoints are saved\n",
    "checkpoint_dir = './model_checkpoint.keras'\n",
    "\n",
    "# List all files in the checkpoint directory\n",
    "checkpoint_files = os.listdir(checkpoint_dir)\n",
    "\n",
    "# Regular expression to extract the epoch number from the filename\n",
    "epoch_regex = r\"_epoch_(\\d+)_\"\n",
    "\n",
    "# Initialize a list to store the epoch numbers\n",
    "epochs = []\n",
    "\n",
    "# Iterate over the checkpoint filenames\n",
    "for filename in checkpoint_files:\n",
    "    match = re.search(epoch_regex, filename)\n",
    "    if match:\n",
    "        # Extract the epoch number and convert it to an integer\n",
    "        epoch_num = int(match.group(1))\n",
    "        epochs.append(epoch_num)\n",
    "\n",
    "# Find the maximum epoch number (last saved epoch)\n",
    "if epochs:\n",
    "    last_saved_epoch = max(epochs)\n",
    "    print(f\"The last saved epoch was: {last_saved_epoch}\")\n",
    "else:\n",
    "    print(\"No checkpoints found.\")\n"
   ]
  },
  {
   "cell_type": "code",
   "execution_count": 6,
   "metadata": {},
   "outputs": [
    {
     "name": "stdout",
     "output_type": "stream",
     "text": [
      "Loading previously saved model...\n",
      "Model saved to final_model.keras\n",
      "dict_keys([])\n"
     ]
    }
   ],
   "source": [
    "#Compiling and Training the Model\n",
    "import os\n",
    "from tensorflow import keras\n",
    "\n",
    "# Calculate class weights for balancing the training\n",
    "class_weights = compute_class_weight('balanced', classes=np.unique(y_train), y=y_train)\n",
    "class_weight_dict = dict(enumerate(class_weights))\n",
    "\n",
    "# Check if a checkpoint exists\n",
    "checkpoint_path = './model_checkpoint.keras'\n",
    "if os.path.exists(checkpoint_path):\n",
    "    print(\"Loading previously saved model...\")\n",
    "    model = keras.models.load_model(checkpoint_path)\n",
    "    # Manually set the initial_epoch parameter based on how many epochs were previously run\n",
    "    initial_epoch = 50  # Adjust this based on your last saved epoch\n",
    "else:\n",
    "    print(\"No checkpoint found. Initializing a new model...\")\n",
    "    model = create_lstm_model(input_shape=(1250, 1))\n",
    "    initial_epoch = 0\n",
    "\n",
    "# Continue with the compilation, setup your callbacks and start training\n",
    "model.compile(optimizer=Adam(learning_rate=0.001),\n",
    "              loss='binary_crossentropy',\n",
    "              metrics=['accuracy', 'Precision', 'Recall'])\n",
    "\n",
    "model_checkpoint_callback = keras.callbacks.ModelCheckpoint(\n",
    "    filepath=checkpoint_path,\n",
    "    save_best_only=True,  # Consider setting this to False if you want to save after every epoch regardless of performance\n",
    "    monitor='val_accuracy',\n",
    "    mode='max',\n",
    "    verbose=1)\n",
    "\n",
    "history = model.fit(\n",
    "    X_train, y_train,\n",
    "    validation_data=(X_test, y_test),\n",
    "    epochs=50,  # Total number of epochs you aim to train\n",
    "    initial_epoch=initial_epoch,  # Start from the epoch after the last saved one\n",
    "    batch_size=32,\n",
    "    callbacks=[model_checkpoint_callback],\n",
    "    class_weight=class_weight_dict)\n",
    "\n",
    "# Optionally, save the final model\n",
    "final_model_path = 'final_model.keras'\n",
    "model.save(final_model_path)\n",
    "print(f\"Model saved to {final_model_path}\")\n",
    "print(history.history.keys())\n"
   ]
  },
  {
   "cell_type": "code",
   "execution_count": 5,
   "metadata": {},
   "outputs": [
    {
     "name": "stderr",
     "output_type": "stream",
     "text": [
      "/home/researchgroup/mahjabeen_workspace/research/clinet-env/lib/python3.11/site-packages/keras/src/saving/saving_lib.py:396: UserWarning: Skipping variable loading for optimizer 'adam', because it has 36 variables whereas the saved optimizer has 2 variables. \n",
      "  trackable.load_own_variables(weights_store.get(inner_path))\n"
     ]
    }
   ],
   "source": [
    "from tensorflow.keras.models import load_model\n",
    "\n",
    "model = load_model('./final_model.keras')\n"
   ]
  },
  {
   "cell_type": "code",
   "execution_count": 4,
   "metadata": {},
   "outputs": [
    {
     "name": "stdout",
     "output_type": "stream",
     "text": [
      "\u001b[1m684/684\u001b[0m \u001b[32m━━━━━━━━━━━━━━━━━━━━\u001b[0m\u001b[37m\u001b[0m \u001b[1m77s\u001b[0m 110ms/step - Precision: 0.9882 - Recall: 0.9919 - accuracy: 0.9938 - loss: 0.0199\n",
      "Test Loss: 0.020192107185721397\n",
      "Test Accuracy: 0.9865314960479736\n"
     ]
    }
   ],
   "source": [
    "#Evaluating the Model on Test Data\n",
    "eval_results = model.evaluate(X_test, y_test, verbose=1)\n",
    "print(f\"Test Loss: {eval_results[0]}\")\n",
    "print(f\"Test Accuracy: {eval_results[1]}\")\n"
   ]
  },
  {
   "cell_type": "code",
   "execution_count": 7,
   "metadata": {},
   "outputs": [
    {
     "name": "stdout",
     "output_type": "stream",
     "text": [
      "\u001b[1m684/684\u001b[0m \u001b[32m━━━━━━━━━━━━━━━━━━━━\u001b[0m\u001b[37m\u001b[0m \u001b[1m71s\u001b[0m 104ms/step\n",
      "[[0]\n",
      " [1]\n",
      " [0]\n",
      " [0]\n",
      " [1]\n",
      " [0]\n",
      " [0]\n",
      " [1]\n",
      " [0]\n",
      " [0]]\n"
     ]
    }
   ],
   "source": [
    "#Generating Predictions\n",
    "y_pred_probs = model.predict(X_test)\n",
    "y_pred = np.round(y_pred_probs).astype(int)  # Assuming a binary classification\n",
    "print(y_pred[:10])\n"
   ]
  },
  {
   "cell_type": "code",
   "execution_count": 8,
   "metadata": {},
   "outputs": [
    {
     "name": "stdout",
     "output_type": "stream",
     "text": [
      "              precision    recall  f1-score   support\n",
      "\n",
      "      Normal       1.00      0.99      1.00     14995\n",
      "    Abnormal       0.99      0.99      0.99      6863\n",
      "\n",
      "    accuracy                           0.99     21858\n",
      "   macro avg       0.99      0.99      0.99     21858\n",
      "weighted avg       0.99      0.99      0.99     21858\n",
      "\n"
     ]
    }
   ],
   "source": [
    "#Generating and Printing the Classification Report\n",
    "from sklearn.metrics import classification_report\n",
    "print(classification_report(y_test, y_pred, target_names=['Normal', 'Abnormal']))\n"
   ]
  },
  {
   "cell_type": "code",
   "execution_count": 9,
   "metadata": {},
   "outputs": [
    {
     "data": {
      "image/png": "[encoded data removed]",
      "text/plain": [
       "<Figure size 1000x700 with 2 Axes>"
      ]
     },
     "metadata": {},
     "output_type": "display_data"
    }
   ],
   "source": [
    "#Plotting the Confusion Matrix\n",
    "from sklearn.metrics import confusion_matrix\n",
    "import seaborn as sns\n",
    "import matplotlib.pyplot as plt\n",
    "\n",
    "conf_matrix = confusion_matrix(y_test, y_pred)\n",
    "\n",
    "plt.figure(figsize=(10, 7))\n",
    "sns.heatmap(conf_matrix, annot=True, fmt='d')\n",
    "plt.xlabel('Predicted Labels')\n",
    "plt.ylabel('True Labels')\n",
    "plt.show()\n"
   ]
  },
  {
   "cell_type": "code",
   "execution_count": 10,
   "metadata": {},
   "outputs": [
    {
     "ename": "NameError",
     "evalue": "name 'history' is not defined",
     "output_type": "error",
     "traceback": [
      "\u001b[0;31m---------------------------------------------------------------------------\u001b[0m",
      "\u001b[0;31mNameError\u001b[0m                                 Traceback (most recent call last)",
      "Cell \u001b[0;32mIn[10], line 2\u001b[0m\n\u001b[1;32m      1\u001b[0m \u001b[38;5;66;03m#Plotting Learning Curves (Loss vs Epoch)\u001b[39;00m\n\u001b[0;32m----> 2\u001b[0m plt\u001b[38;5;241m.\u001b[39mplot(\u001b[43mhistory\u001b[49m\u001b[38;5;241m.\u001b[39mhistory[\u001b[38;5;124m'\u001b[39m\u001b[38;5;124mloss\u001b[39m\u001b[38;5;124m'\u001b[39m], label\u001b[38;5;241m=\u001b[39m\u001b[38;5;124m'\u001b[39m\u001b[38;5;124mTraining Loss\u001b[39m\u001b[38;5;124m'\u001b[39m)\n\u001b[1;32m      3\u001b[0m plt\u001b[38;5;241m.\u001b[39mplot(history\u001b[38;5;241m.\u001b[39mhistory[\u001b[38;5;124m'\u001b[39m\u001b[38;5;124mval_loss\u001b[39m\u001b[38;5;124m'\u001b[39m], label\u001b[38;5;241m=\u001b[39m\u001b[38;5;124m'\u001b[39m\u001b[38;5;124mValidation Loss\u001b[39m\u001b[38;5;124m'\u001b[39m)\n\u001b[1;32m      4\u001b[0m plt\u001b[38;5;241m.\u001b[39mtitle(\u001b[38;5;124m'\u001b[39m\u001b[38;5;124mLoss vs. Epochs\u001b[39m\u001b[38;5;124m'\u001b[39m)\n",
      "\u001b[0;31mNameError\u001b[0m: name 'history' is not defined"
     ]
    }
   ],
   "source": [
    "#Plotting Learning Curves (Loss vs Epoch)\n",
    "plt.plot(history.history['loss'], label='Training Loss')\n",
    "plt.plot(history.history['val_loss'], label='Validation Loss')\n",
    "plt.title('Loss vs. Epochs')\n",
    "plt.xlabel('Epochs')\n",
    "plt.ylabel('Loss')\n",
    "plt.legend()\n",
    "plt.show()"
   ]
  },
  {
   "cell_type": "code",
   "execution_count": 12,
   "metadata": {},
   "outputs": [
    {
     "ename": "KeyError",
     "evalue": "'accuracy'",
     "output_type": "error",
     "traceback": [
      "\u001b[0;31m---------------------------------------------------------------------------\u001b[0m",
      "\u001b[0;31mKeyError\u001b[0m                                  Traceback (most recent call last)",
      "Cell \u001b[0;32mIn[12], line 6\u001b[0m\n\u001b[1;32m      4\u001b[0m plt\u001b[38;5;241m.\u001b[39mfigure(figsize\u001b[38;5;241m=\u001b[39m(\u001b[38;5;241m12\u001b[39m, \u001b[38;5;241m6\u001b[39m))\n\u001b[1;32m      5\u001b[0m plt\u001b[38;5;241m.\u001b[39msubplot(\u001b[38;5;241m1\u001b[39m, \u001b[38;5;241m2\u001b[39m, \u001b[38;5;241m1\u001b[39m)\n\u001b[0;32m----> 6\u001b[0m plt\u001b[38;5;241m.\u001b[39mplot(\u001b[43mhistory\u001b[49m\u001b[38;5;241;43m.\u001b[39;49m\u001b[43mhistory\u001b[49m\u001b[43m[\u001b[49m\u001b[38;5;124;43m'\u001b[39;49m\u001b[38;5;124;43maccuracy\u001b[39;49m\u001b[38;5;124;43m'\u001b[39;49m\u001b[43m]\u001b[49m)\n\u001b[1;32m      7\u001b[0m plt\u001b[38;5;241m.\u001b[39mplot(history\u001b[38;5;241m.\u001b[39mhistory[\u001b[38;5;124m'\u001b[39m\u001b[38;5;124mval_accuracy\u001b[39m\u001b[38;5;124m'\u001b[39m])\n\u001b[1;32m      8\u001b[0m plt\u001b[38;5;241m.\u001b[39mtitle(\u001b[38;5;124m'\u001b[39m\u001b[38;5;124mModel Accuracy\u001b[39m\u001b[38;5;124m'\u001b[39m)\n",
      "\u001b[0;31mKeyError\u001b[0m: 'accuracy'"
     ]
    },
    {
     "data": {
      "image/png": "[encoded data removed]",
      "text/plain": [
       "<Figure size 1200x600 with 1 Axes>"
      ]
     },
     "metadata": {},
     "output_type": "display_data"
    }
   ],
   "source": [
    "import matplotlib.pyplot as plt\n",
    "\n",
    "# Summarize history for accuracy\n",
    "plt.figure(figsize=(12, 6))\n",
    "plt.subplot(1, 2, 1)\n",
    "plt.plot(history.history['accuracy'])\n",
    "plt.plot(history.history['val_accuracy'])\n",
    "plt.title('Model Accuracy')\n",
    "plt.ylabel('Accuracy')\n",
    "plt.xlabel('Epoch')\n",
    "plt.legend(['Train', 'Validation'], loc='upper left')\n",
    "\n",
    "# Summarize history for loss\n",
    "plt.subplot(1, 2, 2)\n",
    "plt.plot(history.history['loss'])\n",
    "plt.plot(history.history['val_loss'])\n",
    "plt.title('Model Loss')\n",
    "plt.ylabel('Loss')\n",
    "plt.xlabel('Epoch')\n",
    "plt.legend(['Train', 'Validation'], loc='upper left')\n",
    "\n",
    "plt.show()\n"
   ]
  },
  {
   "cell_type": "code",
   "execution_count": 13,
   "metadata": {},
   "outputs": [
    {
     "ename": "TypeError",
     "evalue": "unsupported operand type(s) for /: 'int' and 'ellipsis'",
     "output_type": "error",
     "traceback": [
      "\u001b[0;31m---------------------------------------------------------------------------\u001b[0m",
      "\u001b[0;31mTypeError\u001b[0m                                 Traceback (most recent call last)",
      "Cell \u001b[0;32mIn[13], line 12\u001b[0m\n\u001b[1;32m      9\u001b[0m         \u001b[38;5;28mself\u001b[39m\u001b[38;5;241m.\u001b[39mepoch_time_start \u001b[38;5;241m=\u001b[39m time\u001b[38;5;241m.\u001b[39mtime()\n\u001b[1;32m     11\u001b[0m time_callback \u001b[38;5;241m=\u001b[39m TimeHistory()\n\u001b[0;32m---> 12\u001b[0m \u001b[43mmodel\u001b[49m\u001b[38;5;241;43m.\u001b[39;49m\u001b[43mfit\u001b[49m\u001b[43m(\u001b[49m\u001b[43mX_train\u001b[49m\u001b[43m,\u001b[49m\u001b[43m \u001b[49m\u001b[43my_train\u001b[49m\u001b[43m,\u001b[49m\u001b[43m \u001b[49m\u001b[38;5;241;43m.\u001b[39;49m\u001b[38;5;241;43m.\u001b[39;49m\u001b[38;5;241;43m.\u001b[39;49m\u001b[43m,\u001b[49m\u001b[43m \u001b[49m\u001b[43mcallbacks\u001b[49m\u001b[38;5;241;43m=\u001b[39;49m\u001b[43m[\u001b[49m\u001b[43mtime_callback\u001b[49m\u001b[43m]\u001b[49m\u001b[43m)\u001b[49m\n\u001b[1;32m     14\u001b[0m \u001b[38;5;66;03m# Sum the times for total training time\u001b[39;00m\n\u001b[1;32m     15\u001b[0m total_time \u001b[38;5;241m=\u001b[39m \u001b[38;5;28msum\u001b[39m(time_callback\u001b[38;5;241m.\u001b[39mtimes)\n",
      "File \u001b[0;32m~/mahjabeen_workspace/research/clinet-env/lib/python3.11/site-packages/keras/src/utils/traceback_utils.py:122\u001b[0m, in \u001b[0;36mfilter_traceback.<locals>.error_handler\u001b[0;34m(*args, **kwargs)\u001b[0m\n\u001b[1;32m    119\u001b[0m     filtered_tb \u001b[38;5;241m=\u001b[39m _process_traceback_frames(e\u001b[38;5;241m.\u001b[39m__traceback__)\n\u001b[1;32m    120\u001b[0m     \u001b[38;5;66;03m# To get the full stack trace, call:\u001b[39;00m\n\u001b[1;32m    121\u001b[0m     \u001b[38;5;66;03m# `keras.config.disable_traceback_filtering()`\u001b[39;00m\n\u001b[0;32m--> 122\u001b[0m     \u001b[38;5;28;01mraise\u001b[39;00m e\u001b[38;5;241m.\u001b[39mwith_traceback(filtered_tb) \u001b[38;5;28;01mfrom\u001b[39;00m \u001b[38;5;28;01mNone\u001b[39;00m\n\u001b[1;32m    123\u001b[0m \u001b[38;5;28;01mfinally\u001b[39;00m:\n\u001b[1;32m    124\u001b[0m     \u001b[38;5;28;01mdel\u001b[39;00m filtered_tb\n",
      "File \u001b[0;32m~/mahjabeen_workspace/research/clinet-env/lib/python3.11/site-packages/keras/src/trainers/data_adapters/array_data_adapter.py:88\u001b[0m, in \u001b[0;36mArrayDataAdapter.__init__\u001b[0;34m(self, x, y, sample_weight, batch_size, steps, shuffle, class_weight)\u001b[0m\n\u001b[1;32m     85\u001b[0m \u001b[38;5;28;01mif\u001b[39;00m \u001b[38;5;129;01mnot\u001b[39;00m batch_size:\n\u001b[1;32m     86\u001b[0m     batch_size \u001b[38;5;241m=\u001b[39m \u001b[38;5;28mint\u001b[39m(math\u001b[38;5;241m.\u001b[39mceil(num_samples \u001b[38;5;241m/\u001b[39m steps)) \u001b[38;5;28;01mif\u001b[39;00m steps \u001b[38;5;28;01melse\u001b[39;00m \u001b[38;5;241m32\u001b[39m\n\u001b[0;32m---> 88\u001b[0m \u001b[38;5;28mself\u001b[39m\u001b[38;5;241m.\u001b[39m_size \u001b[38;5;241m=\u001b[39m \u001b[38;5;28mint\u001b[39m(math\u001b[38;5;241m.\u001b[39mceil(\u001b[43mnum_samples\u001b[49m\u001b[43m \u001b[49m\u001b[38;5;241;43m/\u001b[39;49m\u001b[43m \u001b[49m\u001b[43mbatch_size\u001b[49m))\n\u001b[1;32m     89\u001b[0m \u001b[38;5;28mself\u001b[39m\u001b[38;5;241m.\u001b[39m_batch_size \u001b[38;5;241m=\u001b[39m batch_size\n\u001b[1;32m     90\u001b[0m \u001b[38;5;28mself\u001b[39m\u001b[38;5;241m.\u001b[39m_partial_batch_size \u001b[38;5;241m=\u001b[39m num_samples \u001b[38;5;241m%\u001b[39m batch_size\n",
      "\u001b[0;31mTypeError\u001b[0m: unsupported operand type(s) for /: 'int' and 'ellipsis'"
     ]
    }
   ],
   "source": [
    "class TimeHistory(keras.callbacks.Callback):\n",
    "    def on_train_begin(self, logs={}):\n",
    "        self.times = []\n",
    "\n",
    "    def on_epoch_end(self, epoch, logs={}):\n",
    "        self.times.append(time.time() - self.epoch_time_start)\n",
    "\n",
    "    def on_epoch_begin(self, epoch, logs={}):\n",
    "        self.epoch_time_start = time.time()\n",
    "\n",
    "time_callback = TimeHistory()\n",
    "model.fit(X_train, y_train, ..., callbacks=[time_callback])\n",
    "\n",
    "# Sum the times for total training time\n",
    "total_time = sum(time_callback.times)\n",
    "print(f\"Total training time: {total_time}s\")\n"
   ]
  },
  {
   "cell_type": "code",
   "execution_count": null,
   "metadata": {},
   "outputs": [],
   "source": []
  }
 ],
 "metadata": {
  "kernelspec": {
   "display_name": "clinet-env",
   "language": "python",
   "name": "python3"
  },
  "language_info": {
   "codemirror_mode": {
    "name": "ipython",
    "version": 3
   },
   "file_extension": ".py",
   "mimetype": "text/x-python",
   "name": "python",
   "nbconvert_exporter": "python",
   "pygments_lexer": "ipython3",
   "version": "3.11.5"
  }
 },
 "nbformat": 4,
 "nbformat_minor": 2
}
